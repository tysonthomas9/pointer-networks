{
  "nbformat": 4,
  "nbformat_minor": 0,
  "metadata": {
    "colab": {
      "name": "Pointer Networks-Toy Problem.ipynb",
      "version": "0.3.2",
      "provenance": [],
      "collapsed_sections": []
    },
    "kernelspec": {
      "name": "python3",
      "display_name": "Python 3"
    }
  },
  "cells": [
    {
      "metadata": {
        "id": "zWFaAnmetOTr",
        "colab_type": "code",
        "colab": {}
      },
      "cell_type": "code",
      "source": [
        "from __future__ import print_function\n",
        "\n",
        "import numpy as np\n",
        "import tensorflow as tf\n",
        "from tensorflow.keras import layers\n",
        "import matplotlib.pyplot as plt\n",
        "\n",
        "tf.enable_eager_execution()"
      ],
      "execution_count": 0,
      "outputs": []
    },
    {
      "metadata": {
        "id": "wmYMjSIyL2F8",
        "colab_type": "text"
      },
      "cell_type": "markdown",
      "source": [
        "### Prepare dataset"
      ]
    },
    {
      "metadata": {
        "id": "wQ0EcmdNXEI_",
        "colab_type": "code",
        "colab": {}
      },
      "cell_type": "code",
      "source": [
        "encoding = {\n",
        "'a': np.array([1.0, 1.0, 0.0, 0.0, 1.0, 0.0, 1.0, 0.0, 1.0, 0.0, 1.0, 0.0, 0.0, 0.0, 1.0, 1.0, 0.0, 0.0, 1.0, 1.0, 1.0, 0.0, 1.0, 0.0, 1.0, 0.0, 1.0, 1.0, 1.0, 1.0, 0.0, 1.0, 0.0, 1.0, 0.0, 1.0, 1.0, 1.0, 1.0, 1.0, 1.0, 0.0, 1.0, 1.0, 0.0, 1.0, 0.0, 0.0, 1.0, 1.0, 1.0, 0.0, 1.0, 1.0, 1.0, 0.0, 0.0, 1.0, 0.0, 0.0, 0.0, 0.0, 1.0, 0.0]),\n",
        "'b': np.array([1.0, 1.0, 0.0, 1.0, 1.0, 0.0, 1.0, 1.0, 1.0, 0.0, 0.0, 0.0, 1.0, 1.0, 0.0, 1.0, 0.0, 0.0, 0.0, 0.0, 0.0, 0.0, 1.0, 1.0, 0.0, 0.0, 0.0, 1.0, 1.0, 0.0, 1.0, 0.0, 1.0, 1.0, 1.0, 1.0, 0.0, 1.0, 1.0, 1.0, 1.0, 0.0, 0.0, 0.0, 1.0, 0.0, 0.0, 1.0, 1.0, 0.0, 1.0, 0.0, 0.0, 0.0, 1.0, 1.0, 0.0, 1.0, 0.0, 1.0, 1.0, 1.0, 0.0, 1.0]),\n",
        "'c': np.array([1.0, 1.0, 0.0, 1.0, 0.0, 1.0, 0.0, 1.0, 0.0, 1.0, 0.0, 0.0, 0.0, 0.0, 1.0, 1.0, 0.0, 1.0, 0.0, 1.0, 0.0, 1.0, 1.0, 1.0, 1.0, 0.0, 1.0, 0.0, 0.0, 0.0, 0.0, 1.0, 0.0, 1.0, 0.0, 0.0, 0.0, 0.0, 0.0, 1.0, 1.0, 1.0, 1.0, 1.0, 1.0, 1.0, 0.0, 1.0, 1.0, 1.0, 0.0, 1.0, 0.0, 1.0, 1.0, 1.0, 1.0, 1.0, 0.0, 1.0, 1.0, 1.0, 0.0, 0.0]),\n",
        "'d': np.array([1.0, 1.0, 0.0, 0.0, 0.0, 1.0, 0.0, 0.0, 0.0, 1.0, 1.0, 0.0, 1.0, 1.0, 0.0, 1.0, 0.0, 1.0, 1.0, 0.0, 1.0, 1.0, 1.0, 0.0, 0.0, 0.0, 0.0, 0.0, 0.0, 1.0, 1.0, 0.0, 1.0, 1.0, 1.0, 0.0, 1.0, 0.0, 0.0, 1.0, 1.0, 1.0, 0.0, 0.0, 0.0, 0.0, 0.0, 0.0, 1.0, 0.0, 0.0, 1.0, 1.0, 0.0, 1.0, 0.0, 1.0, 1.0, 0.0, 0.0, 0.0, 0.0, 1.0, 1.0]),\n",
        "'e': np.array([0.0, 1.0, 0.0, 0.0, 1.0, 0.0, 1.0, 0.0, 0.0, 1.0, 1.0, 0.0, 0.0, 0.0, 1.0, 0.0, 0.0, 1.0, 1.0, 0.0, 0.0, 0.0, 1.0, 0.0, 0.0, 0.0, 0.0, 0.0, 1.0, 0.0, 1.0, 0.0, 1.0, 0.0, 0.0, 1.0, 1.0, 1.0, 0.0, 0.0, 1.0, 1.0, 1.0, 0.0, 1.0, 0.0, 0.0, 1.0, 0.0, 1.0, 1.0, 1.0, 0.0, 1.0, 0.0, 1.0, 1.0, 0.0, 1.0, 0.0, 1.0, 1.0, 1.0, 0.0]),\n",
        "'f': np.array([0.0, 1.0, 0.0, 1.0, 1.0, 0.0, 1.0, 1.0, 0.0, 1.0, 0.0, 0.0, 1.0, 1.0, 0.0, 0.0, 0.0, 1.0, 0.0, 1.0, 1.0, 0.0, 1.0, 1.0, 1.0, 0.0, 1.0, 0.0, 1.0, 1.0, 0.0, 1.0, 0.0, 0.0, 1.0, 1.0, 0.0, 1.0, 0.0, 0.0, 1.0, 1.0, 0.0, 1.0, 0.0, 1.0, 0.0, 0.0, 0.0, 0.0, 1.0, 1.0, 1.0, 0.0, 0.0, 0.0, 1.0, 0.0, 1.0, 1.0, 0.0, 0.0, 0.0, 1.0]),\n",
        "'g': np.array([0.0, 1.0, 0.0, 1.0, 0.0, 1.0, 0.0, 1.0, 1.0, 0.0, 0.0, 0.0, 0.0, 0.0, 1.0, 0.0, 0.0, 0.0, 0.0, 0.0, 1.0, 1.0, 1.0, 1.0, 0.0, 0.0, 0.0, 1.0, 0.0, 1.0, 1.0, 0.0, 1.0, 0.0, 0.0, 0.0, 0.0, 0.0, 1.0, 0.0, 1.0, 0.0, 1.0, 0.0, 0.0, 0.0, 0.0, 0.0, 0.0, 1.0, 0.0, 0.0, 1.0, 1.0, 0.0, 0.0, 0.0, 0.0, 1.0, 1.0, 0.0, 0.0, 0.0, 0.0]),\n",
        "'h': np.array([0.0, 1.0, 0.0, 0.0, 0.0, 1.0, 0.0, 0.0, 1.0, 0.0, 1.0, 0.0, 1.0, 1.0, 0.0, 0.0, 0.0, 0.0, 1.0, 1.0, 0.0, 1.0, 1.0, 0.0, 1.0, 0.0, 1.0, 1.0, 0.0, 0.0, 0.0, 1.0, 0.0, 0.0, 1.0, 0.0, 1.0, 0.0, 1.0, 0.0, 1.0, 0.0, 0.0, 1.0, 1.0, 1.0, 0.0, 1.0, 0.0, 0.0, 0.0, 0.0, 0.0, 0.0, 0.0, 1.0, 0.0, 0.0, 1.0, 0.0, 1.0, 1.0, 1.0, 1.0]),\n",
        "'i': np.array([1.0, 1.0, 0.0, 0.0, 0.0, 0.0, 0.0, 0.0, 0.0, 0.0, 0.0, 1.0, 0.0, 1.0, 0.0, 0.0, 0.0, 0.0, 0.0, 1.0, 1.0, 0.0, 0.0, 1.0, 0.0, 1.0, 0.0, 0.0, 1.0, 1.0, 0.0, 1.0, 1.0, 1.0, 1.0, 0.0, 1.0, 0.0, 1.0, 1.0, 1.0, 1.0, 0.0, 1.0, 1.0, 0.0, 1.0, 1.0, 0.0, 1.0, 1.0, 1.0, 0.0, 1.0, 0.0, 0.0, 0.0, 0.0, 0.0, 1.0, 1.0, 0.0, 1.0, 0.0]),\n",
        "'j': np.array([1.0, 1.0, 0.0, 1.0, 0.0, 0.0, 0.0, 1.0, 0.0, 0.0, 1.0, 1.0, 1.0, 0.0, 1.0, 0.0, 0.0, 0.0, 1.0, 0.0, 0.0, 0.0, 0.0, 0.0, 1.0, 1.0, 1.0, 0.0, 1.0, 0.0, 1.0, 0.0, 0.0, 1.0, 0.0, 0.0, 0.0, 0.0, 1.0, 1.0, 1.0, 1.0, 1.0, 0.0, 0.0, 1.0, 1.0, 0.0, 0.0, 0.0, 1.0, 1.0, 1.0, 0.0, 0.0, 1.0, 0.0, 0.0, 0.0, 0.0, 0.0, 1.0, 0.0, 1.0]),\n",
        "'k': np.array([1.0, 1.0, 0.0, 1.0, 1.0, 1.0, 1.0, 1.0, 1.0, 1.0, 1.0, 1.0, 0.0, 1.0, 0.0, 0.0, 0.0, 1.0, 1.0, 1.0, 0.0, 1.0, 0.0, 0.0, 0.0, 1.0, 0.0, 1.0, 0.0, 0.0, 0.0, 1.0, 1.0, 1.0, 1.0, 1.0, 0.0, 1.0, 0.0, 1.0, 1.0, 0.0, 0.0, 1.0, 0.0, 0.0, 1.0, 0.0, 0.0, 1.0, 0.0, 0.0, 1.0, 1.0, 0.0, 1.0, 1.0, 0.0, 0.0, 0.0, 0.0, 1.0, 0.0, 0.0]),\n",
        "'l': np.array([1.0, 1.0, 0.0, 0.0, 1.0, 1.0, 1.0, 0.0, 1.0, 1.0, 0.0, 1.0, 1.0, 0.0, 1.0, 0.0, 0.0, 1.0, 0.0, 0.0, 1.0, 1.0, 0.0, 1.0, 1.0, 1.0, 1.0, 1.0, 0.0, 1.0, 1.0, 0.0, 0.0, 1.0, 0.0, 1.0, 1.0, 1.0, 0.0, 1.0, 1.0, 0.0, 1.0, 0.0, 1.0, 1.0, 1.0, 1.0, 0.0, 0.0, 0.0, 0.0, 0.0, 0.0, 0.0, 0.0, 1.0, 0.0, 0.0, 1.0, 1.0, 0.0, 1.0, 1.0]),\n",
        "'m': np.array([0.0, 1.0, 0.0, 0.0, 0.0, 0.0, 0.0, 0.0, 1.0, 1.0, 0.0, 1.0, 0.0, 1.0, 0.0, 1.0, 0.0, 1.0, 0.0, 0.0, 0.0, 0.0, 0.0, 1.0, 1.0, 1.0, 1.0, 1.0, 1.0, 0.0, 1.0, 0.0, 0.0, 0.0, 1.0, 0.0, 1.0, 0.0, 0.0, 0.0, 1.0, 0.0, 0.0, 0.0, 0.0, 1.0, 1.0, 0.0, 1.0, 1.0, 1.0, 0.0, 1.0, 1.0, 1.0, 1.0, 1.0, 1.0, 1.0, 1.0, 0.0, 1.0, 1.0, 0.0]),\n",
        "'n': np.array([0.0, 1.0, 0.0, 1.0, 0.0, 0.0, 0.0, 1.0, 1.0, 1.0, 1.0, 1.0, 1.0, 0.0, 1.0, 1.0, 0.0, 1.0, 1.0, 1.0, 1.0, 0.0, 0.0, 0.0, 0.0, 1.0, 0.0, 1.0, 1.0, 1.0, 0.0, 1.0, 1.0, 0.0, 0.0, 0.0, 0.0, 0.0, 0.0, 0.0, 1.0, 0.0, 1.0, 1.0, 1.0, 0.0, 1.0, 1.0, 1.0, 0.0, 1.0, 0.0, 0.0, 0.0, 1.0, 0.0, 1.0, 1.0, 1.0, 0.0, 1.0, 0.0, 0.0, 1.0]),\n",
        "'o': np.array([0.0, 1.0, 0.0, 1.0, 1.0, 1.0, 1.0, 1.0, 0.0, 0.0, 1.0, 1.0, 0.0, 1.0, 0.0, 1.0, 0.0, 0.0, 1.0, 0.0, 1.0, 1.0, 0.0, 0.0, 1.0, 1.0, 1.0, 0.0, 0.0, 1.0, 1.0, 0.0, 0.0, 0.0, 1.0, 1.0, 0.0, 1.0, 1.0, 0.0, 1.0, 1.0, 0.0, 0.0, 1.0, 1.0, 1.0, 1.0, 1.0, 1.0, 0.0, 1.0, 0.0, 1.0, 1.0, 0.0, 0.0, 1.0, 1.0, 0.0, 1.0, 0.0, 0.0, 0.0]),\n",
        "'p': np.array([0.0, 1.0, 0.0, 0.0, 1.0, 1.0, 1.0, 0.0, 0.0, 0.0, 0.0, 1.0, 1.0, 0.0, 1.0, 1.0, 0.0, 0.0, 0.0, 1.0, 0.0, 1.0, 0.0, 1.0, 0.0, 1.0, 0.0, 0.0, 0.0, 0.0, 0.0, 1.0, 1.0, 0.0, 0.0, 1.0, 1.0, 1.0, 1.0, 0.0, 1.0, 1.0, 1.0, 1.0, 0.0, 0.0, 1.0, 0.0, 1.0, 0.0, 0.0, 1.0, 1.0, 0.0, 1.0, 1.0, 0.0, 1.0, 1.0, 1.0, 0.0, 1.0, 1.0, 1.0]),\n",
        "'q': np.array([0.0, 1.0, 1.0, 1.0, 0.0, 0.0, 1.0, 0.0, 0.0, 1.0, 1.0, 1.0, 1.0, 1.0, 1.0, 0.0, 1.0, 0.0, 0.0, 1.0, 1.0, 1.0, 1.0, 0.0, 1.0, 0.0, 0.0, 1.0, 1.0, 1.0, 1.0, 1.0, 1.0, 0.0, 0.0, 1.0, 1.0, 0.0, 1.0, 1.0, 1.0, 0.0, 0.0, 0.0, 0.0, 1.0, 1.0, 0.0, 0.0, 1.0, 0.0, 1.0, 0.0, 0.0, 1.0, 1.0, 1.0, 1.0, 0.0, 1.0, 1.0, 1.0, 0.0, 0.0]),\n",
        "'r': np.array([0.0, 1.0, 1.0, 0.0, 0.0, 0.0, 1.0, 1.0, 0.0, 1.0, 0.0, 1.0, 0.0, 0.0, 0.0, 0.0, 1.0, 0.0, 1.0, 0.0, 0.0, 1.0, 1.0, 1.0, 0.0, 0.0, 1.0, 1.0, 1.0, 0.0, 0.0, 0.0, 0.0, 0.0, 1.0, 1.0, 0.0, 0.0, 1.0, 1.0, 1.0, 0.0, 1.0, 1.0, 1.0, 0.0, 1.0, 1.0, 0.0, 0.0, 0.0, 1.0, 1.0, 1.0, 1.0, 0.0, 1.0, 1.0, 0.0, 0.0, 0.0, 0.0, 1.0, 1.0]),\n",
        "'s': np.array([0.0, 1.0, 1.0, 0.0, 1.0, 1.0, 0.0, 1.0, 1.0, 0.0, 0.0, 1.0, 1.0, 1.0, 1.0, 0.0, 1.0, 1.0, 1.0, 1.0, 0.0, 0.0, 1.0, 1.0, 1.0, 0.0, 0.0, 0.0, 0.0, 0.0, 1.0, 1.0, 1.0, 0.0, 0.0, 0.0, 0.0, 1.0, 0.0, 1.0, 1.0, 1.0, 0.0, 0.0, 1.0, 1.0, 1.0, 1.0, 0.0, 1.0, 1.0, 0.0, 1.0, 0.0, 1.0, 0.0, 0.0, 1.0, 0.0, 0.0, 0.0, 0.0, 1.0, 0.0]),\n",
        "'t': np.array([0.0, 1.0, 1.0, 1.0, 1.0, 1.0, 0.0, 0.0, 1.0, 0.0, 1.0, 1.0, 0.0, 0.0, 0.0, 0.0, 1.0, 1.0, 0.0, 0.0, 1.0, 0.0, 1.0, 0.0, 0.0, 0.0, 1.0, 0.0, 0.0, 1.0, 0.0, 0.0, 0.0, 0.0, 1.0, 0.0, 1.0, 1.0, 0.0, 1.0, 1.0, 1.0, 1.0, 1.0, 0.0, 0.0, 1.0, 0.0, 0.0, 0.0, 1.0, 0.0, 0.0, 1.0, 1.0, 1.0, 0.0, 1.0, 0.0, 1.0, 1.0, 1.0, 0.0, 1.0]),\n",
        "'u': np.array([1.0, 1.0, 1.0, 1.0, 0.0, 0.0, 1.0, 0.0, 1.0, 0.0, 1.0, 1.0, 1.0, 1.0, 1.0, 1.0, 1.0, 1.0, 0.0, 0.0, 0.0, 1.0, 1.0, 0.0, 0.0, 0.0, 1.0, 0.0, 1.0, 0.0, 0.0, 0.0, 0.0, 1.0, 0.0, 1.0, 1.0, 0.0, 0.0, 0.0, 1.0, 1.0, 0.0, 1.0, 1.0, 0.0, 1.0, 1.0, 1.0, 1.0, 0.0, 0.0, 1.0, 0.0, 0.0, 0.0, 0.0, 0.0, 1.0, 1.0, 0.0, 0.0, 0.0, 0.0]),\n",
        "'v': np.array([1.0, 1.0, 1.0, 0.0, 0.0, 0.0, 1.0, 1.0, 1.0, 0.0, 0.0, 1.0, 0.0, 0.0, 0.0, 1.0, 1.0, 1.0, 1.0, 1.0, 1.0, 1.0, 1.0, 1.0, 1.0, 0.0, 0.0, 0.0, 1.0, 1.0, 1.0, 1.0, 1.0, 1.0, 1.0, 1.0, 0.0, 0.0, 0.0, 0.0, 1.0, 1.0, 1.0, 0.0, 0.0, 1.0, 1.0, 0.0, 1.0, 0.0, 0.0, 0.0, 0.0, 1.0, 0.0, 1.0, 0.0, 0.0, 1.0, 0.0, 1.0, 1.0, 1.0, 1.0]),\n",
        "'w': np.array([1.0, 1.0, 1.0, 0.0, 1.0, 1.0, 0.0, 1.0, 0.0, 1.0, 0.0, 1.0, 1.0, 1.0, 1.0, 1.0, 1.0, 0.0, 1.0, 0.0, 1.0, 0.0, 1.0, 1.0, 0.0, 0.0, 1.0, 1.0, 0.0, 1.0, 0.0, 0.0, 0.0, 1.0, 0.0, 0.0, 0.0, 1.0, 1.0, 0.0, 1.0, 0.0, 0.0, 1.0, 0.0, 0.0, 1.0, 0.0, 1.0, 1.0, 1.0, 1.0, 0.0, 0.0, 0.0, 1.0, 1.0, 0.0, 1.0, 0.0, 1.0, 1.0, 1.0, 0.0]),\n",
        "'x': np.array([1.0, 1.0, 1.0, 1.0, 1.0, 1.0, 0.0, 0.0, 0.0, 1.0, 1.0, 1.0, 0.0, 0.0, 0.0, 1.0, 1.0, 0.0, 0.0, 1.0, 0.0, 0.0, 1.0, 0.0, 1.0, 0.0, 0.0, 1.0, 0.0, 0.0, 1.0, 1.0, 1.0, 1.0, 1.0, 0.0, 1.0, 1.0, 1.0, 0.0, 1.0, 0.0, 1.0, 0.0, 1.0, 1.0, 1.0, 1.0, 1.0, 0.0, 1.0, 1.0, 1.0, 1.0, 0.0, 0.0, 1.0, 0.0, 1.0, 1.0, 0.0, 0.0, 0.0, 1.0]),\n",
        "'y': np.array([0.0, 1.0, 1.0, 1.0, 1.0, 0.0, 0.0, 0.0, 1.0, 1.0, 0.0, 0.0, 1.0, 0.0, 0.0, 1.0, 1.0, 0.0, 1.0, 1.0, 1.0, 1.0, 0.0, 1.0, 0.0, 1.0, 1.0, 0.0, 1.0, 1.0, 1.0, 1.0, 0.0, 0.0, 1.0, 0.0, 1.0, 1.0, 1.0, 1.0, 1.0, 1.0, 1.0, 0.0, 1.0, 0.0, 0.0, 1.0, 1.0, 1.0, 0.0, 0.0, 1.0, 0.0, 0.0, 1.0, 1.0, 0.0, 0.0, 0.0, 0.0, 1.0, 0.0, 0.0]),\n",
        "'z': np.array([0.0, 1.0, 1.0, 0.0, 1.0, 0.0, 0.0, 1.0, 1.0, 1.0, 1.0, 0.0, 0.0, 1.0, 1.0, 1.0, 1.0, 0.0, 0.0, 0.0, 0.0, 1.0, 0.0, 0.0, 1.0, 1.0, 0.0, 0.0, 1.0, 0.0, 0.0, 0.0, 1.0, 0.0, 0.0, 0.0, 0.0, 1.0, 1.0, 1.0, 1.0, 1.0, 0.0, 1.0, 0.0, 1.0, 0.0, 0.0, 1.0, 0.0, 0.0, 0.0, 0.0, 1.0, 0.0, 0.0, 1.0, 0.0, 0.0, 1.0, 1.0, 0.0, 1.0, 1.0]),\n",
        "'1': np.array([0.0, 1.0, 1.0, 0.0, 0.0, 1.0, 1.0, 1.0, 0.0, 0.0, 1.0, 0.0, 1.0, 0.0, 0.0, 1.0, 1.0, 1.0, 0.0, 1.0, 0.0, 0.0, 0.0, 0.0, 0.0, 1.0, 1.0, 1.0, 0.0, 0.0, 1.0, 1.0, 0.0, 0.0, 1.0, 1.0, 0.0, 0.0, 0.0, 1.0, 1.0, 0.0, 1.0, 0.0, 0.0, 0.0, 0.0, 0.0, 1.0, 1.0, 1.0, 1.0, 0.0, 0.0, 0.0, 0.0, 0.0, 0.0, 0.0, 1.0, 1.0, 0.0, 1.0, 0.0]),\n",
        "'2': np.array([0.0, 1.0, 1.0, 1.0, 0.0, 1.0, 1.0, 0.0, 0.0, 0.0, 0.0, 0.0, 0.0, 1.0, 1.0, 1.0, 1.0, 1.0, 1.0, 0.0, 1.0, 0.0, 0.0, 1.0, 1.0, 1.0, 0.0, 1.0, 0.0, 1.0, 0.0, 0.0, 1.0, 0.0, 0.0, 1.0, 1.0, 0.0, 0.0, 1.0, 1.0, 0.0, 0.0, 1.0, 1.0, 1.0, 0.0, 1.0, 1.0, 0.0, 1.0, 1.0, 1.0, 1.0, 0.0, 1.0, 0.0, 0.0, 0.0, 0.0, 0.0, 1.0, 0.0, 1.0]),\n",
        "'3': np.array([1.0, 1.0, 1.0, 1.0, 1.0, 0.0, 0.0, 0.0, 0.0, 0.0, 0.0, 0.0, 1.0, 0.0, 0.0, 0.0, 1.0, 1.0, 1.0, 0.0, 0.0, 1.0, 0.0, 1.0, 1.0, 1.0, 0.0, 1.0, 1.0, 0.0, 0.0, 0.0, 1.0, 1.0, 1.0, 0.0, 1.0, 1.0, 0.0, 0.0, 1.0, 0.0, 1.0, 1.0, 0.0, 1.0, 0.0, 0.0, 0.0, 1.0, 0.0, 1.0, 0.0, 0.0, 1.0, 0.0, 0.0, 1.0, 1.0, 0.0, 1.0, 0.0, 0.0, 0.0]),\n",
        "'4': np.array([1.0, 1.0, 1.0, 0.0, 1.0, 0.0, 0.0, 1.0, 0.0, 0.0, 1.0, 0.0, 0.0, 1.0, 1.0, 0.0, 1.0, 1.0, 0.0, 1.0, 1.0, 1.0, 0.0, 0.0, 0.0, 1.0, 1.0, 1.0, 1.0, 1.0, 1.0, 1.0, 0.0, 1.0, 0.0, 0.0, 0.0, 1.0, 0.0, 0.0, 1.0, 0.0, 0.0, 0.0, 1.0, 0.0, 0.0, 1.0, 0.0, 0.0, 0.0, 1.0, 1.0, 1.0, 1.0, 1.0, 0.0, 1.0, 1.0, 1.0, 0.0, 1.0, 1.0, 1.0]),\n",
        "'5': np.array([1.0, 1.0, 1.0, 0.0, 0.0, 1.0, 1.0, 1.0, 1.0, 1.0, 1.0, 0.0, 1.0, 0.0, 0.0, 0.0, 1.0, 0.0, 0.0, 0.0, 1.0, 0.0, 0.0, 0.0, 1.0, 1.0, 0.0, 0.0, 0.0, 1.0, 0.0, 0.0, 1.0, 1.0, 1.0, 1.0, 0.0, 0.0, 1.0, 0.0, 1.0, 1.0, 1.0, 1.0, 1.0, 1.0, 0.0, 1.0, 0.0, 1.0, 1.0, 0.0, 1.0, 0.0, 1.0, 1.0, 1.0, 1.0, 1.0, 1.0, 0.0, 1.0, 1.0, 0.0]),\n",
        "'6': np.array([1.0, 1.0, 1.0, 1.0, 0.0, 1.0, 1.0, 0.0, 1.0, 1.0, 0.0, 0.0, 0.0, 1.0, 1.0, 0.0, 1.0, 0.0, 1.0, 1.0, 0.0, 0.0, 0.0, 1.0, 0.0, 1.0, 1.0, 0.0, 0.0, 0.0, 1.0, 1.0, 0.0, 1.0, 0.0, 1.0, 1.0, 0.0, 1.0, 0.0, 1.0, 1.0, 0.0, 0.0, 0.0, 0.0, 0.0, 0.0, 0.0, 0.0, 1.0, 0.0, 0.0, 1.0, 1.0, 0.0, 1.0, 1.0, 1.0, 0.0, 1.0, 0.0, 0.0, 1.0]),\n",
        "'7': np.array([0.0, 1.0, 1.0, 0.0, 1.0, 1.0, 1.0, 0.0, 1.0, 0.0, 1.0, 1.0, 0.0, 1.0, 0.0, 1.0, 0.0, 0.0, 1.0, 1.0, 0.0, 0.0, 0.0, 1.0, 1.0, 0.0, 0.0, 0.0, 1.0, 1.0, 0.0, 0.0, 0.0, 1.0, 0.0, 0.0, 0.0, 0.0, 0.0, 0.0, 0.0, 0.0, 1.0, 0.0, 0.0, 0.0, 0.0, 1.0, 0.0, 1.0, 0.0, 1.0, 0.0, 0.0, 0.0, 1.0, 1.0, 1.0, 0.0, 1.0, 0.0, 0.0, 0.0, 1.0]),\n",
        "'8': np.array([0.0, 1.0, 1.0, 1.0, 1.0, 1.0, 1.0, 1.0, 1.0, 0.0, 0.0, 1.0, 1.0, 0.0, 1.0, 1.0, 0.0, 0.0, 0.0, 0.0, 1.0, 0.0, 0.0, 0.0, 0.0, 0.0, 1.0, 0.0, 1.0, 0.0, 1.0, 1.0, 1.0, 1.0, 1.0, 0.0, 1.0, 0.0, 0.0, 0.0, 0.0, 0.0, 0.0, 1.0, 1.0, 1.0, 0.0, 0.0, 0.0, 0.0, 0.0, 1.0, 1.0, 1.0, 0.0, 0.0, 1.0, 1.0, 0.0, 0.0, 1.0, 1.0, 1.0, 0.0]),\n",
        "'0': np.array([0.0, 1.0, 1.0, 1.0, 0.0, 0.0, 0.0, 1.0, 0.0, 1.0, 0.0, 1.0, 0.0, 1.0, 0.0, 1.0, 0.0, 1.0, 0.0, 1.0, 1.0, 1.0, 0.0, 0.0, 1.0, 0.0, 0.0, 1.0, 0.0, 0.0, 0.0, 0.0, 0.0, 1.0, 0.0, 1.0, 1.0, 1.0, 1.0, 0.0, 0.0, 1.0, 1.0, 0.0, 1.0, 0.0, 0.0, 0.0, 0.0, 1.0, 1.0, 0.0, 1.0, 0.0, 0.0, 0.0, 0.0, 1.0, 0.0, 0.0, 1.0, 1.0, 1.0, 1.0]),\n",
        "'=>': np.array([0.0, 1.0, 1.0, 0.0, 0.0, 0.0, 0.0, 0.0, 0.0, 1.0, 1.0, 1.0, 1.0, 0.0, 1.0, 1.0, 0.0, 1.0, 1.0, 0.0, 0.0, 1.0, 0.0, 1.0, 0.0, 0.0, 1.0, 1.0, 0.0, 1.0, 1.0, 1.0, 1.0, 1.0, 1.0, 1.0, 0.0, 1.0, 1.0, 0.0, 0.0, 1.0, 0.0, 1.0, 0.0, 1.0, 0.0, 1.0, 0.0, 0.0, 1.0, 0.0, 0.0, 1.0, 0.0, 1.0, 0.0, 1.0, 0.0, 1.0, 0.0, 0.0, 0.0, 0.0]),\n",
        "}\n"
      ],
      "execution_count": 0,
      "outputs": []
    },
    {
      "metadata": {
        "id": "HBvfNv757Dbp",
        "colab_type": "code",
        "colab": {}
      },
      "cell_type": "code",
      "source": [
        "input_string = ['=>','t','y','s','o','n','t','h','o','m','a','s']"
      ],
      "execution_count": 0,
      "outputs": []
    },
    {
      "metadata": {
        "id": "fodngzZR0dLl",
        "colab_type": "code",
        "colab": {}
      },
      "cell_type": "code",
      "source": [
        "output_pred = np.array([\n",
        "    [0,0,1,0,0,0,0,0,0,0,0,0],\n",
        "    [0,0,0,1,0,0,0,0,0,0,0,0],\n",
        "    [0,0,0,0,1,0,0,0,0,0,0,0],\n",
        "    [0,0,0,0,0,1,0,0,0,0,0,0],\n",
        "    [0,0,0,0,0,0,1,0,0,0,0,0],\n",
        "    [0,0,0,0,0,0,0,1,0,0,0,0],\n",
        "    [0,0,0,0,0,0,0,0,1,0,0,0],\n",
        "    [0,0,0,0,0,0,0,0,0,1,0,0],\n",
        "    [0,0,0,0,0,0,0,0,0,0,1,0],\n",
        "    [0,0,0,0,0,0,0,0,0,0,0,1],\n",
        "    [1,0,0,0,0,0,0,0,0,0,0,0],\n",
        "    [1,0,0,0,0,0,0,0,0,0,0,0],\n",
        "])"
      ],
      "execution_count": 0,
      "outputs": []
    },
    {
      "metadata": {
        "id": "xrEkN9pG0eIw",
        "colab_type": "code",
        "outputId": "6c0117b5-6582-4e0d-f073-d437171fb4d9",
        "colab": {
          "base_uri": "https://localhost:8080/",
          "height": 34
        }
      },
      "cell_type": "code",
      "source": [
        "output_pred.shape"
      ],
      "execution_count": 35,
      "outputs": [
        {
          "output_type": "execute_result",
          "data": {
            "text/plain": [
              "(12, 12)"
            ]
          },
          "metadata": {
            "tags": []
          },
          "execution_count": 35
        }
      ]
    },
    {
      "metadata": {
        "id": "-I2uWMrqJPf1",
        "colab_type": "code",
        "colab": {}
      },
      "cell_type": "code",
      "source": [
        "num_samples = 6 * 100"
      ],
      "execution_count": 0,
      "outputs": []
    },
    {
      "metadata": {
        "id": "R8ZWNatXTVti",
        "colab_type": "code",
        "colab": {}
      },
      "cell_type": "code",
      "source": [
        "encoder_input_data = np.zeros(\n",
        "    (num_samples, len(input_string),len(encoding['=>'])),\n",
        "    dtype='float32')\n",
        "target_data = np.zeros(\n",
        "    (num_samples, len(input_string),len(input_string)),\n",
        "    dtype='float32')\n",
        "\n",
        "input_encoder = np.zeros((len(input_string),len(encoding['=>'])), dtype='float32')\n",
        "\n",
        "for i in range(len(input_string)):\n",
        "  input_encoder[i] = encoding[input_string[i]]\n",
        "\n",
        "for i in range(num_samples):\n",
        "    encoder_input_data[i] = input_encoder\n",
        "    target_data[i] = output_pred"
      ],
      "execution_count": 0,
      "outputs": []
    },
    {
      "metadata": {
        "id": "BZkNxs8Yr2Vf",
        "colab_type": "code",
        "outputId": "45d70573-49f1-4c67-ef85-edaad3398e85",
        "colab": {
          "base_uri": "https://localhost:8080/",
          "height": 34
        }
      },
      "cell_type": "code",
      "source": [
        "input_encoder.shape"
      ],
      "execution_count": 38,
      "outputs": [
        {
          "output_type": "execute_result",
          "data": {
            "text/plain": [
              "(12, 64)"
            ]
          },
          "metadata": {
            "tags": []
          },
          "execution_count": 38
        }
      ]
    },
    {
      "metadata": {
        "id": "Ih6aChJ92FuU",
        "colab_type": "code",
        "outputId": "be31d7cf-f29d-4a73-acbc-016ed02f7581",
        "colab": {
          "base_uri": "https://localhost:8080/",
          "height": 34
        }
      },
      "cell_type": "code",
      "source": [
        "encoder_input_data.shape"
      ],
      "execution_count": 39,
      "outputs": [
        {
          "output_type": "execute_result",
          "data": {
            "text/plain": [
              "(600, 12, 64)"
            ]
          },
          "metadata": {
            "tags": []
          },
          "execution_count": 39
        }
      ]
    },
    {
      "metadata": {
        "id": "OlhqrxIL2Cz3",
        "colab_type": "code",
        "outputId": "2bf98ec3-4072-4067-8f9b-50a7d129ffb7",
        "colab": {
          "base_uri": "https://localhost:8080/",
          "height": 34
        }
      },
      "cell_type": "code",
      "source": [
        "target_data.shape"
      ],
      "execution_count": 40,
      "outputs": [
        {
          "output_type": "execute_result",
          "data": {
            "text/plain": [
              "(600, 12, 12)"
            ]
          },
          "metadata": {
            "tags": []
          },
          "execution_count": 40
        }
      ]
    },
    {
      "metadata": {
        "id": "rtYM-s5wh2RY",
        "colab_type": "text"
      },
      "cell_type": "markdown",
      "source": [
        "#### Example input -> output sequence"
      ]
    },
    {
      "metadata": {
        "id": "_GmpDXMih7YQ",
        "colab_type": "text"
      },
      "cell_type": "markdown",
      "source": [
        "`['=>','t','t','h','o', 'm', 'a', '1', '7'] ->  ['t','h','o', 'm', 'a', '1', '7','=>']`"
      ]
    },
    {
      "metadata": {
        "id": "97GlpqgvL8PK",
        "colab_type": "text"
      },
      "cell_type": "markdown",
      "source": [
        "## Encoder & Decoder Network"
      ]
    },
    {
      "metadata": {
        "id": "uqAZrGBMTGDj",
        "colab_type": "code",
        "colab": {}
      },
      "cell_type": "code",
      "source": [
        "class Encoder(tf.keras.Model):\n",
        "    def __init__(self, hidden_dimensions):\n",
        "        super(Encoder, self).__init__()\n",
        "        self.lstm = layers.LSTM(hidden_dimensions, return_sequences=True, return_state=True)\n",
        "        \n",
        "    def call(self, x):\n",
        "        output, state_h, state_c  = self.lstm(x)        \n",
        "        return output, [state_h, state_c]"
      ],
      "execution_count": 0,
      "outputs": []
    },
    {
      "metadata": {
        "id": "tLNzTuJfWPhk",
        "colab_type": "code",
        "colab": {}
      },
      "cell_type": "code",
      "source": [
        "class Decoder(tf.keras.Model):\n",
        "     def __init__(self, hidden_dimensions):\n",
        "        super(Decoder, self).__init__()\n",
        "        self.lstm = layers.LSTM(hidden_dimensions, return_sequences=True, return_state=True)\n",
        "     \n",
        "     def call(self, x, hidden_states):\n",
        "        dec_output, state_h, state_c  = self.lstm(x, initial_state=hidden_states)\n",
        "        # dec_output shape -> (batch_size, 1, hidden_dimension) -> (32, 1, 256)\n",
        "\n",
        "        return dec_output, [state_h, state_c]"
      ],
      "execution_count": 0,
      "outputs": []
    },
    {
      "metadata": {
        "id": "eTSf9SdkBjcM",
        "colab_type": "code",
        "colab": {}
      },
      "cell_type": "code",
      "source": [
        "class Attention(tf.keras.Model):\n",
        "     def __init__(self, hidden_dimensions):\n",
        "        super(Attention, self).__init__()\n",
        "        # Note: Dense layer -> dot(input, kernel) -> so now Ui = vT . tanh(W1 . e + W2 . di)  becomes Ui = tanh(e . W1 + di . W2) . v\n",
        "        self.W1 = tf.keras.layers.Dense(hidden_dimensions, use_bias=False) # weights -> (256, 256)\n",
        "        self.W2 = tf.keras.layers.Dense(hidden_dimensions, use_bias=False) # weights -> (256, 256)\n",
        "        self.V = tf.keras.layers.Dense(1, use_bias=False) # weights -> (256, 1)\n",
        "        \n",
        "     \n",
        "     def call(self, encoder_outputs, dec_output):\n",
        "        # encoder_outputs shape -> (batch_size, input_sequence_length, hidden_dimension) -> (32, 9, 256)\n",
        "        # dec_output shape -> (batch_size, 1, hidden_dimension) -> (32, 1, 256)\n",
        "\n",
        "        # w1_e -> (*, 9, 256) * (*, 256, 256) -> (*, 9, 256)\n",
        "        w1_e = self.W1(encoder_outputs)\n",
        "        \n",
        "        # w2_e -> (*, 1, 256) * (*, 256, 256) -> (*, 1, 256)\n",
        "        w2_d = self.W2(dec_output)\n",
        "        \n",
        "        # tanh_output -> (*, 9, 256) + (*, 1, 256) -> (*, 9, 256)\n",
        "        tanh_output = tf.nn.tanh(w1_e + w2_d)\n",
        "        \n",
        "        # tanh_output -> (*, 9, 256) + (*, 256, 1) -> (*, 9, 1)\n",
        "        v_dot_tanh = self.V(tanh_output)\n",
        "        \n",
        "        # attention_weights -> (batch_size, input_sequence_length, 1) -> (32, 9, 1)\n",
        "        attention_weights = tf.nn.softmax(v_dot_tanh, axis=1)\n",
        "        \n",
        "        return tf.reshape(attention_weights, (attention_weights.shape[0], attention_weights.shape[1])) # (batch_size, input_sequence_length) -> (32, 9)"
      ],
      "execution_count": 0,
      "outputs": []
    },
    {
      "metadata": {
        "id": "2Hiu44IFLq4D",
        "colab_type": "code",
        "colab": {}
      },
      "cell_type": "code",
      "source": [
        "num_encoder_tokens = len(encoding['=>'])\n",
        "encoder_seq_length = len(input_string)\n",
        "hidden_dimensions = 256"
      ],
      "execution_count": 0,
      "outputs": []
    },
    {
      "metadata": {
        "id": "sz3B3FHW1MsN",
        "colab_type": "code",
        "outputId": "d4bf6882-b2f1-4b2f-c1eb-403c1cac0c95",
        "colab": {
          "base_uri": "https://localhost:8080/",
          "height": 34
        }
      },
      "cell_type": "code",
      "source": [
        "print(\"Input dimension: \", num_encoder_tokens)"
      ],
      "execution_count": 45,
      "outputs": [
        {
          "output_type": "stream",
          "text": [
            "Input dimension:  64\n"
          ],
          "name": "stdout"
        }
      ]
    },
    {
      "metadata": {
        "id": "YMFkSiR5DLV8",
        "colab_type": "code",
        "outputId": "024e6ee9-7d6d-4f1a-97a0-8d08dd5a43e3",
        "colab": {
          "base_uri": "https://localhost:8080/",
          "height": 34
        }
      },
      "cell_type": "code",
      "source": [
        "print(\"Input sequence length: \", encoder_seq_length)"
      ],
      "execution_count": 46,
      "outputs": [
        {
          "output_type": "stream",
          "text": [
            "Input sequence length:  12\n"
          ],
          "name": "stdout"
        }
      ]
    },
    {
      "metadata": {
        "id": "_8MjNP5GCvQv",
        "colab_type": "code",
        "outputId": "589f8e3a-d561-4dba-d3b2-341b228721da",
        "colab": {
          "base_uri": "https://localhost:8080/",
          "height": 34
        }
      },
      "cell_type": "code",
      "source": [
        "print(\"RNN Network hiddent dimension: \", hidden_dimensions)"
      ],
      "execution_count": 47,
      "outputs": [
        {
          "output_type": "stream",
          "text": [
            "RNN Network hiddent dimension:  256\n"
          ],
          "name": "stdout"
        }
      ]
    },
    {
      "metadata": {
        "id": "w_shAefxqfVs",
        "colab_type": "text"
      },
      "cell_type": "markdown",
      "source": [
        "### Initialize encoder and decoder network"
      ]
    },
    {
      "metadata": {
        "id": "xLlEdEXmVFGq",
        "colab_type": "code",
        "colab": {}
      },
      "cell_type": "code",
      "source": [
        "encoder = Encoder(hidden_dimensions)\n",
        "decoder = Decoder(hidden_dimensions)\n",
        "attention = Attention(hidden_dimensions)"
      ],
      "execution_count": 0,
      "outputs": []
    },
    {
      "metadata": {
        "id": "dUHrlclMqu7L",
        "colab_type": "text"
      },
      "cell_type": "markdown",
      "source": [
        "### Setup tensorflow dataset for traning "
      ]
    },
    {
      "metadata": {
        "id": "oT5uZj9w3egC",
        "colab_type": "code",
        "colab": {}
      },
      "cell_type": "code",
      "source": [
        "dataset = tf.data.Dataset.from_tensor_slices((\n",
        "   encoder_input_data,\n",
        "   target_data\n",
        "))\n",
        "\n",
        "# Divide to 32 batches\n",
        "batches = 32\n",
        "dataset = dataset.shuffle(100).batch(32)"
      ],
      "execution_count": 0,
      "outputs": []
    },
    {
      "metadata": {
        "id": "tS35_maF4p-e",
        "colab_type": "code",
        "outputId": "faa0caa0-3a01-41ed-f50d-fcc11b1773db",
        "colab": {
          "base_uri": "https://localhost:8080/",
          "height": 34
        }
      },
      "cell_type": "code",
      "source": [
        "dataset"
      ],
      "execution_count": 50,
      "outputs": [
        {
          "output_type": "execute_result",
          "data": {
            "text/plain": [
              "<DatasetV1Adapter shapes: ((?, 12, 64), (?, 12, 12)), types: (tf.float32, tf.float32)>"
            ]
          },
          "metadata": {
            "tags": []
          },
          "execution_count": 50
        }
      ]
    },
    {
      "metadata": {
        "id": "LkM2Lp_zq3VK",
        "colab_type": "text"
      },
      "cell_type": "markdown",
      "source": [
        "#### Output of network before training"
      ]
    },
    {
      "metadata": {
        "id": "nHndKpviD0-Q",
        "colab_type": "code",
        "outputId": "f483c8f3-ab56-4857-e54d-1d096d7f49f4",
        "colab": {
          "base_uri": "https://localhost:8080/",
          "height": 748
        }
      },
      "cell_type": "code",
      "source": [
        "# Input sequence\n",
        "print(\"Input sequence: %s\"% input_string)\n",
        "\n",
        "#Initialize values\n",
        "attention_vector_array = []\n",
        "final_output_sequence = []\n",
        "\n",
        "# expand the sequences to be batch size of 1 to be fed as input\n",
        "encoder_input = tf.expand_dims(input_encoder, 0)\n",
        "target_data = tf.expand_dims(output_pred, 0)\n",
        "\n",
        "# encoder_input shapes -> (batch_size, input_sequence_length, input_dimension)\n",
        "# encoder_outputs shape -> (batch_size, input_sequence_length, hidden_dimension)\n",
        "encoder_outputs, encoder_states = encoder(encoder_input)\n",
        "\n",
        "# first decoder input '=>'\n",
        "dec_input = tf.expand_dims(encoder_input[:, 0], 1)\n",
        "\n",
        "# loading the final encoder states to decoder network as initial hidden states\n",
        "decoder_states = encoder_states\n",
        "\n",
        "print(\"\\nPrediction for \")\n",
        "for i in range(0, encoder_input.shape[1]):\n",
        "    decoder_output, decoder_states = decoder(dec_input, decoder_states)\n",
        "    target_prediction = attention(encoder_outputs, decoder_output)\n",
        "    \n",
        "    # Save the attention vector\n",
        "    attention_vector_array.append(target_prediction.numpy()[0])\n",
        "    final_output_sequence.append(np.round(target_prediction.numpy()[0]))\n",
        "    print(\"%dth position -> %d -> %s\"%(i, np.argmax(target_prediction), input_string[np.argmax(target_prediction)]))\n",
        "\n",
        "    # pass the predicted value as next input state to decoder network\n",
        "    dec_input = tf.expand_dims(encoder_input[:, np.argmax(target_prediction)], 1) # works only for one input combination\n",
        "\n",
        "print(\"\\nTarget output values (softmax values over the input sequence size)\")\n",
        "print(target_data.numpy()[0])\n",
        "print(\"\\nPredicted output values\")\n",
        "print(np.array(final_output_sequence))"
      ],
      "execution_count": 51,
      "outputs": [
        {
          "output_type": "stream",
          "text": [
            "Input sequence: ['=>', 't', 'y', 's', 'o', 'n', 't', 'h', 'o', 'm', 'a', 's']\n",
            "\n",
            "Prediction for \n",
            "0th position -> 10 -> a\n",
            "1th position -> 9 -> m\n",
            "2th position -> 9 -> m\n",
            "3th position -> 9 -> m\n",
            "4th position -> 9 -> m\n",
            "5th position -> 9 -> m\n",
            "6th position -> 9 -> m\n",
            "7th position -> 9 -> m\n",
            "8th position -> 9 -> m\n",
            "9th position -> 9 -> m\n",
            "10th position -> 9 -> m\n",
            "11th position -> 9 -> m\n",
            "\n",
            "Target output values (softmax values over the input sequence size)\n",
            "[[0 0 1 0 0 0 0 0 0 0 0 0]\n",
            " [0 0 0 1 0 0 0 0 0 0 0 0]\n",
            " [0 0 0 0 1 0 0 0 0 0 0 0]\n",
            " [0 0 0 0 0 1 0 0 0 0 0 0]\n",
            " [0 0 0 0 0 0 1 0 0 0 0 0]\n",
            " [0 0 0 0 0 0 0 1 0 0 0 0]\n",
            " [0 0 0 0 0 0 0 0 1 0 0 0]\n",
            " [0 0 0 0 0 0 0 0 0 1 0 0]\n",
            " [0 0 0 0 0 0 0 0 0 0 1 0]\n",
            " [0 0 0 0 0 0 0 0 0 0 0 1]\n",
            " [1 0 0 0 0 0 0 0 0 0 0 0]\n",
            " [1 0 0 0 0 0 0 0 0 0 0 0]]\n",
            "\n",
            "Predicted output values\n",
            "[[0. 0. 0. 0. 0. 0. 0. 0. 0. 0. 0. 0.]\n",
            " [0. 0. 0. 0. 0. 0. 0. 0. 0. 0. 0. 0.]\n",
            " [0. 0. 0. 0. 0. 0. 0. 0. 0. 0. 0. 0.]\n",
            " [0. 0. 0. 0. 0. 0. 0. 0. 0. 0. 0. 0.]\n",
            " [0. 0. 0. 0. 0. 0. 0. 0. 0. 0. 0. 0.]\n",
            " [0. 0. 0. 0. 0. 0. 0. 0. 0. 0. 0. 0.]\n",
            " [0. 0. 0. 0. 0. 0. 0. 0. 0. 0. 0. 0.]\n",
            " [0. 0. 0. 0. 0. 0. 0. 0. 0. 0. 0. 0.]\n",
            " [0. 0. 0. 0. 0. 0. 0. 0. 0. 0. 0. 0.]\n",
            " [0. 0. 0. 0. 0. 0. 0. 0. 0. 0. 0. 0.]\n",
            " [0. 0. 0. 0. 0. 0. 0. 0. 0. 0. 0. 0.]\n",
            " [0. 0. 0. 0. 0. 0. 0. 0. 0. 0. 0. 0.]]\n"
          ],
          "name": "stdout"
        }
      ]
    },
    {
      "metadata": {
        "id": "01MfSZZoMNwM",
        "colab_type": "text"
      },
      "cell_type": "markdown",
      "source": [
        "### Train Model"
      ]
    },
    {
      "metadata": {
        "id": "WGwifkQinyC4",
        "colab_type": "code",
        "colab": {}
      },
      "cell_type": "code",
      "source": [
        "optimizer = tf.train.AdamOptimizer()"
      ],
      "execution_count": 0,
      "outputs": []
    },
    {
      "metadata": {
        "id": "9uolR2wiKDUQ",
        "colab_type": "code",
        "outputId": "ea14bd52-c1d2-45e0-ca6f-348a2a66f22f",
        "colab": {
          "base_uri": "https://localhost:8080/",
          "height": 544
        }
      },
      "cell_type": "code",
      "source": [
        "epochs = 10\n",
        "loss_history = []\n",
        "total_attention = []\n",
        "for epoch in range(epochs):\n",
        "    # encoder_input shapes -> (batch_size, input_sequence_length, input_dimension)\n",
        "    for (batch, (encoder_input, target_data)) in enumerate(dataset):\n",
        "        loss = 0\n",
        "\n",
        "        with tf.GradientTape() as tape:\n",
        "            encoder_outputs, encoder_states = encoder(encoder_input)\n",
        "            # encoder_outputs shape -> (batch_size, input_sequence_length, hidden_state_dimension) -> (32, 9, 256)\n",
        "            # encoder states shape -> (batch_size, hidden_state_dimension) -> (32, 256)\n",
        "    \n",
        "            # first decoder input '=>'\n",
        "            # dec_input shape -> (batch_size, input_lenght=1, input_dimension) -> (32, 1, 64)\n",
        "            dec_input = tf.expand_dims(encoder_input[:, 0], 1) # The '=>' symbol loaded as input\n",
        "            \n",
        "            # loading the final encoder states to decoder network as initial hidden states\n",
        "            # decoder states shape -> (batch_size, hidden_state_dimension) -> (32, 256)\n",
        "            decoder_states = encoder_states\n",
        "\n",
        "            # track attention over each output sequence\n",
        "            attention_vector_array = []\n",
        "            \n",
        "            # iterrate over the times of input sequence size or till the output points to '=>' symbol\n",
        "            for i in range(0, encoder_input.shape[1]):\n",
        "              # decoder outputs shape -> (batch_size, input_lenght=1, hidden_state_dimension) -> (32, 1, 256)\n",
        "              # decoder states shape -> (batch_size, hidden_state_dimension) -> (32, 256)\n",
        "              decoder_output, decoder_states = decoder(dec_input, decoder_states)\n",
        "              \n",
        "              # target prediction -> (batch_size, input_sequence_length) -> (32, 9)\n",
        "              # target prediction points to one of the input sequence element -> element with highest value\n",
        "              target_prediction = attention(encoder_outputs, decoder_output)\n",
        "              \n",
        "              if batch % 10 == 0:\n",
        "                attention_vector_array.append(target_prediction.numpy()[0])\n",
        "\n",
        "              # used for training the network by using the target data\n",
        "              tar_data = target_data[:, i]\n",
        "              # load the input state to decoder network for next prediction\n",
        "              dec_input = tf.expand_dims(encoder_input[:, np.argmax(tar_data)], 1) # Works only for one input combination\n",
        "\n",
        "              # loss value calculated as categorical crossentropy\n",
        "              loss += tf.reduce_mean(tf.keras.backend.categorical_crossentropy(tar_data, target_prediction))\n",
        "\n",
        "        batch_loss = (loss / batches)\n",
        "        if batch % 10 == 0:\n",
        "            total_attention.append(attention_vector_array)\n",
        "            print(\"\\tEpoch {:03d}/{:03d}: Loss at step {:02d}: {:.9f}\".format((epoch+1), epochs, batch, tf.reduce_mean(tf.keras.backend.categorical_crossentropy(tar_data, target_prediction))))\n",
        "        # store the loss history \n",
        "        loss_history.append(batch_loss.numpy())\n",
        "        # fetch the trainable variables\n",
        "        variables = encoder.variables + decoder.variables\n",
        "        # calculate the gradient\n",
        "        grads = tape.gradient(loss, variables)\n",
        "        # update the weights of the network\n",
        "        optimizer.apply_gradients(zip(grads, variables), global_step=tf.train.get_or_create_global_step())\n",
        "    print(\"Epoch {:03d}/{:03d} completed \\t - \\tBatch loss: {:.9f}\".format((epoch+1), epochs, tf.reduce_mean(tf.keras.backend.categorical_crossentropy(tar_data, target_prediction))))\n",
        "print(\"Final loss: {:.9f}\".format(tf.reduce_mean(tf.keras.backend.categorical_crossentropy(tar_data, target_prediction))))"
      ],
      "execution_count": 53,
      "outputs": [
        {
          "output_type": "stream",
          "text": [
            "\tEpoch 001/010: Loss at step 00: 2.586486340\n",
            "\tEpoch 001/010: Loss at step 10: 1.652926207\n",
            "Epoch 001/010 completed \t - \tBatch loss: 0.737634003\n",
            "\tEpoch 002/010: Loss at step 00: 0.594395161\n",
            "\tEpoch 002/010: Loss at step 10: 0.283425897\n",
            "Epoch 002/010 completed \t - \tBatch loss: 0.221804753\n",
            "\tEpoch 003/010: Loss at step 00: 0.212876111\n",
            "\tEpoch 003/010: Loss at step 10: 0.166659266\n",
            "Epoch 003/010 completed \t - \tBatch loss: 0.142695352\n",
            "\tEpoch 004/010: Loss at step 00: 0.140396357\n",
            "\tEpoch 004/010: Loss at step 10: 0.127221733\n",
            "Epoch 004/010 completed \t - \tBatch loss: 0.124605991\n",
            "\tEpoch 005/010: Loss at step 00: 0.124018788\n",
            "\tEpoch 005/010: Loss at step 10: 0.119092867\n",
            "Epoch 005/010 completed \t - \tBatch loss: 0.113801777\n",
            "\tEpoch 006/010: Loss at step 00: 0.113012649\n",
            "\tEpoch 006/010: Loss at step 10: 0.105430283\n",
            "Epoch 006/010 completed \t - \tBatch loss: 0.100743979\n",
            "\tEpoch 007/010: Loss at step 00: 0.100178391\n",
            "\tEpoch 007/010: Loss at step 10: 0.096093237\n",
            "Epoch 007/010 completed \t - \tBatch loss: 0.091945909\n",
            "\tEpoch 008/010: Loss at step 00: 0.091525100\n",
            "\tEpoch 008/010: Loss at step 10: 0.086051621\n",
            "Epoch 008/010 completed \t - \tBatch loss: 0.082826383\n",
            "\tEpoch 009/010: Loss at step 00: 0.082323454\n",
            "\tEpoch 009/010: Loss at step 10: 0.078101113\n",
            "Epoch 009/010 completed \t - \tBatch loss: 0.075257078\n",
            "\tEpoch 010/010: Loss at step 00: 0.074943647\n",
            "\tEpoch 010/010: Loss at step 10: 0.072059304\n",
            "Epoch 010/010 completed \t - \tBatch loss: 0.069732025\n",
            "Final loss: 0.069732025\n"
          ],
          "name": "stdout"
        }
      ]
    },
    {
      "metadata": {
        "id": "0fcEN_jWXrbk",
        "colab_type": "text"
      },
      "cell_type": "markdown",
      "source": [
        "#### Attention plot over the input sequence"
      ]
    },
    {
      "metadata": {
        "id": "4vJ1vMKzSevq",
        "colab_type": "code",
        "outputId": "80f6565b-8311-4be4-d68a-8d360474f133",
        "colab": {
          "base_uri": "https://localhost:8080/",
          "height": 910
        }
      },
      "cell_type": "code",
      "source": [
        "fig = plt.figure(figsize=(20,20))\n",
        "for i in range(1, len(total_attention)):\n",
        "  fig.add_subplot(len(total_attention)/4, len(total_attention)/4, i).matshow(np.array(total_attention[i-1]), cmap='YlGn')\n",
        "plt.show()"
      ],
      "execution_count": 54,
      "outputs": [
        {
          "output_type": "display_data",
          "data": {
            "image/png": "[encoded data removed]",
            "text/plain": [
              "<Figure size 1440x1440 with 19 Axes>"
            ]
          },
          "metadata": {
            "tags": []
          }
        }
      ]
    },
    {
      "metadata": {
        "id": "0GCUvlzuXxya",
        "colab_type": "text"
      },
      "cell_type": "markdown",
      "source": [
        "### Loss plot over the entire training sequence"
      ]
    },
    {
      "metadata": {
        "id": "miigFwpMW_lO",
        "colab_type": "code",
        "outputId": "6ff5bb2d-98e1-42d0-b8c5-0904eeb668e5",
        "colab": {
          "base_uri": "https://localhost:8080/",
          "height": 361
        }
      },
      "cell_type": "code",
      "source": [
        "plt.plot(loss_history)\n",
        "\n",
        "plt.ylabel('loss value')\n",
        "plt.xlabel('batches')\n",
        "\n",
        "plt.show()"
      ],
      "execution_count": 55,
      "outputs": [
        {
          "output_type": "display_data",
          "data": {
            "image/png": "[encoded data removed]",
            "text/plain": [
              "<Figure size 576x396 with 1 Axes>"
            ]
          },
          "metadata": {
            "tags": []
          }
        }
      ]
    },
    {
      "metadata": {
        "id": "dWkPK4bKxwuN",
        "colab_type": "text"
      },
      "cell_type": "markdown",
      "source": [
        "### Inference Model"
      ]
    },
    {
      "metadata": {
        "id": "7wrftwSNLy-4",
        "colab_type": "text"
      },
      "cell_type": "markdown",
      "source": [
        "#### Output of network after training"
      ]
    },
    {
      "metadata": {
        "id": "uTnwRFAFJuN5",
        "colab_type": "code",
        "outputId": "32436d18-50ad-4082-b003-d584cf306046",
        "colab": {
          "base_uri": "https://localhost:8080/",
          "height": 748
        }
      },
      "cell_type": "code",
      "source": [
        "# Input sequence\n",
        "print(\"Input sequence: %s\"% input_string)\n",
        "\n",
        "#Initialize values\n",
        "attention_vector_array = []\n",
        "final_output_sequence = []\n",
        "\n",
        "# expand the sequences to be batch size of 1 to be fed as input\n",
        "encoder_input = tf.expand_dims(input_encoder, 0)\n",
        "target_data = tf.expand_dims(output_pred, 0)\n",
        "\n",
        "# encoder_input shapes -> (number_of_inputs, input_sequence_length, input_dimension)\n",
        "# encoder_outputs shape -> (number_of_inputs, input_sequence_length, hidden_dimension)\n",
        "encoder_outputs, encoder_states = encoder(encoder_input)\n",
        "\n",
        "# first decoder input '=>'\n",
        "dec_input = tf.expand_dims(encoder_input[:, 0], 1)\n",
        "\n",
        "# loading the final encoder states to decoder network as initial hidden states\n",
        "decoder_states = encoder_states\n",
        "\n",
        "print(\"\\nPrediction for \")\n",
        "for i in range(0, encoder_input.shape[1]):\n",
        "    decoder_output, decoder_states = decoder(dec_input, decoder_states)\n",
        "    target_prediction = attention(encoder_outputs, decoder_output)\n",
        "    \n",
        "    # Save the attention vector\n",
        "    attention_vector_array.append(target_prediction.numpy()[0])\n",
        "    final_output_sequence.append(np.round(target_prediction.numpy()[0]))\n",
        "    print(\"%dth position -> %d -> %s\"%(i, np.argmax(target_prediction), input_string[np.argmax(target_prediction)]))\n",
        "\n",
        "    # pass the predicted value as next input state to decoder network\n",
        "    dec_input = tf.expand_dims(encoder_input[:, np.argmax(target_prediction)], 1) # works only for one input combination\n",
        "\n",
        "print(\"\\nTarget output values (softmax values over the input sequence size)\")\n",
        "print(target_data.numpy()[0])\n",
        "print(\"\\nPredicted output values\")\n",
        "print(np.array(final_output_sequence))"
      ],
      "execution_count": 56,
      "outputs": [
        {
          "output_type": "stream",
          "text": [
            "Input sequence: ['=>', 't', 'y', 's', 'o', 'n', 't', 'h', 'o', 'm', 'a', 's']\n",
            "\n",
            "Prediction for \n",
            "0th position -> 2 -> y\n",
            "1th position -> 3 -> s\n",
            "2th position -> 4 -> o\n",
            "3th position -> 5 -> n\n",
            "4th position -> 6 -> t\n",
            "5th position -> 7 -> h\n",
            "6th position -> 8 -> o\n",
            "7th position -> 9 -> m\n",
            "8th position -> 10 -> a\n",
            "9th position -> 11 -> s\n",
            "10th position -> 0 -> =>\n",
            "11th position -> 0 -> =>\n",
            "\n",
            "Target output values (softmax values over the input sequence size)\n",
            "[[0 0 1 0 0 0 0 0 0 0 0 0]\n",
            " [0 0 0 1 0 0 0 0 0 0 0 0]\n",
            " [0 0 0 0 1 0 0 0 0 0 0 0]\n",
            " [0 0 0 0 0 1 0 0 0 0 0 0]\n",
            " [0 0 0 0 0 0 1 0 0 0 0 0]\n",
            " [0 0 0 0 0 0 0 1 0 0 0 0]\n",
            " [0 0 0 0 0 0 0 0 1 0 0 0]\n",
            " [0 0 0 0 0 0 0 0 0 1 0 0]\n",
            " [0 0 0 0 0 0 0 0 0 0 1 0]\n",
            " [0 0 0 0 0 0 0 0 0 0 0 1]\n",
            " [1 0 0 0 0 0 0 0 0 0 0 0]\n",
            " [1 0 0 0 0 0 0 0 0 0 0 0]]\n",
            "\n",
            "Predicted output values\n",
            "[[0. 0. 1. 0. 0. 0. 0. 0. 0. 0. 0. 0.]\n",
            " [0. 0. 0. 1. 0. 0. 0. 0. 0. 0. 0. 0.]\n",
            " [0. 0. 0. 0. 1. 0. 0. 0. 0. 0. 0. 0.]\n",
            " [0. 0. 0. 0. 0. 1. 0. 0. 0. 0. 0. 0.]\n",
            " [0. 0. 0. 0. 0. 0. 1. 0. 0. 0. 0. 0.]\n",
            " [0. 0. 0. 0. 0. 0. 0. 1. 0. 0. 0. 0.]\n",
            " [0. 0. 0. 0. 0. 0. 0. 0. 1. 0. 0. 0.]\n",
            " [0. 0. 0. 0. 0. 0. 0. 0. 0. 1. 0. 0.]\n",
            " [0. 0. 0. 0. 0. 0. 0. 0. 0. 0. 1. 0.]\n",
            " [0. 0. 0. 0. 0. 0. 0. 0. 0. 0. 0. 1.]\n",
            " [1. 0. 0. 0. 0. 0. 0. 0. 0. 0. 0. 0.]\n",
            " [1. 0. 0. 0. 0. 0. 0. 0. 0. 0. 0. 0.]]\n"
          ],
          "name": "stdout"
        }
      ]
    },
    {
      "metadata": {
        "id": "Szl9S7PwjGVn",
        "colab_type": "code",
        "outputId": "dc18e3a2-eeb2-4f02-c343-08dbe925ebad",
        "colab": {
          "base_uri": "https://localhost:8080/",
          "height": 646
        }
      },
      "cell_type": "code",
      "source": [
        "np.array(attention_vector_array)"
      ],
      "execution_count": 58,
      "outputs": [
        {
          "output_type": "execute_result",
          "data": {
            "text/plain": [
              "array([[2.66826153e-02, 2.57624849e-03, 8.70207310e-01, 6.21546544e-02,\n",
              "        9.87752061e-03, 3.84392566e-03, 2.59830710e-03, 2.23554019e-03,\n",
              "        2.13384489e-03, 3.21914838e-03, 5.58472378e-03, 8.88618361e-03],\n",
              "       [1.29067870e-02, 1.08288496e-03, 6.49634674e-02, 7.84978509e-01,\n",
              "        1.01402938e-01, 1.45443371e-02, 5.11186523e-03, 2.57323543e-03,\n",
              "        2.32252060e-03, 3.17899161e-03, 2.98776780e-03, 3.94662656e-03],\n",
              "       [8.00716691e-03, 6.36503624e-04, 1.28889289e-02, 8.96886736e-02,\n",
              "        7.57103384e-01, 1.05739295e-01, 1.30596031e-02, 3.13395029e-03,\n",
              "        2.00622156e-03, 2.37094425e-03, 2.40361993e-03, 2.96171266e-03],\n",
              "       [6.98580220e-03, 4.89634345e-04, 6.89912913e-03, 1.09430403e-02,\n",
              "        1.01995878e-01, 7.24566698e-01, 1.16448209e-01, 1.35685951e-02,\n",
              "        5.72271645e-03, 5.73500898e-03, 4.21509333e-03, 2.43018102e-03],\n",
              "       [5.42958081e-03, 3.64749460e-04, 4.50197607e-03, 3.71039007e-03,\n",
              "        1.48414476e-02, 1.11184634e-01, 7.11639822e-01, 1.19905576e-01,\n",
              "        1.62629448e-02, 7.05798762e-03, 2.94289878e-03, 2.15793331e-03],\n",
              "       [6.17959304e-03, 4.45796264e-04, 6.07466744e-03, 5.24177216e-03,\n",
              "        8.63224268e-03, 1.73677783e-02, 1.17611185e-01, 6.98740721e-01,\n",
              "        1.15184560e-01, 1.57105085e-02, 4.86272853e-03, 3.94849852e-03],\n",
              "       [7.75809633e-03, 2.87305244e-04, 3.77739756e-03, 4.84296633e-03,\n",
              "        5.16134221e-03, 5.85847301e-03, 1.77333616e-02, 1.25350803e-01,\n",
              "        6.95651531e-01, 1.08034305e-01, 1.73146278e-02, 8.22975766e-03],\n",
              "       [6.22792868e-03, 2.01381074e-04, 2.01448589e-03, 3.34060146e-03,\n",
              "        2.73236982e-03, 3.03186080e-03, 5.91293536e-03, 2.00641025e-02,\n",
              "        1.18569456e-01, 7.31124938e-01, 9.11037996e-02, 1.56762544e-02],\n",
              "       [1.32341748e-02, 3.03396751e-04, 3.69443581e-03, 2.06580502e-03,\n",
              "        1.45568082e-03, 1.80133572e-03, 3.21697863e-03, 7.30033079e-03,\n",
              "        1.52930198e-02, 9.93390381e-02, 7.59516180e-01, 9.27795470e-02],\n",
              "       [7.09218159e-02, 8.00128852e-04, 8.07099883e-03, 3.47185787e-03,\n",
              "        2.12901202e-03, 1.94501784e-03, 2.81545590e-03, 4.82128887e-03,\n",
              "        6.56723091e-03, 1.64515879e-02, 9.34750289e-02, 7.88530529e-01],\n",
              "       [9.23232734e-01, 1.77976419e-03, 1.42376181e-02, 6.15996961e-03,\n",
              "        2.91716983e-03, 2.96425750e-03, 2.71142600e-03, 2.95647653e-03,\n",
              "        4.06900328e-03, 3.97855230e-03, 7.41050253e-03, 2.75825020e-02],\n",
              "       [9.32886004e-01, 1.78141380e-03, 1.32108945e-02, 5.86653780e-03,\n",
              "        2.62897788e-03, 2.83267535e-03, 2.68052937e-03, 2.87680468e-03,\n",
              "        4.00674203e-03, 3.76297580e-03, 6.18217140e-03, 2.12843046e-02]],\n",
              "      dtype=float32)"
            ]
          },
          "metadata": {
            "tags": []
          },
          "execution_count": 58
        }
      ]
    },
    {
      "metadata": {
        "id": "5EkUHT0HHAhV",
        "colab_type": "text"
      },
      "cell_type": "markdown",
      "source": [
        "References:\n",
        "\n",
        "* https://arxiv.org/pdf/1506.03134.pdf\n",
        "* https://www.tensorflow.org/api_docs/python/tf/keras/layers/Dense"
      ]
    }
  ]
}